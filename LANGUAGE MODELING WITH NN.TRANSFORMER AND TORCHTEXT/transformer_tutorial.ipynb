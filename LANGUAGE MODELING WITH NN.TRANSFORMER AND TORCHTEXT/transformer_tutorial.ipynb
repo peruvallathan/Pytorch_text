{
 "cells": [
  {
   "cell_type": "code",
   "execution_count": 10,
   "metadata": {},
   "outputs": [],
   "source": [
    "# For tips on running notebooks in Google Colab, see\n",
    "# https://pytorch.org/tutorials/beginner/colab\n",
    "%matplotlib inline"
   ]
  },
  {
   "cell_type": "markdown",
   "metadata": {},
   "source": [
    "\n",
    "# Language Modeling with ``nn.Transformer`` and torchtext\n",
    "\n",
    "This is a tutorial on training a model to predict the next word in a sequence using the\n",
    "[nn.Transformer](https://pytorch.org/docs/stable/generated/torch.nn.Transformer.html)_ module.\n",
    "\n",
    "The PyTorch 1.2 release includes a standard transformer module based on the\n",
    "paper [Attention is All You Need](https://arxiv.org/pdf/1706.03762.pdf)_.\n",
    "Compared to Recurrent Neural Networks (RNNs), the transformer model has proven\n",
    "to be superior in quality for many sequence-to-sequence tasks while being more\n",
    "parallelizable. The ``nn.Transformer`` module relies entirely on an attention\n",
    "mechanism (implemented as\n",
    "[nn.MultiheadAttention](https://pytorch.org/docs/stable/generated/torch.nn.MultiheadAttention.html)_)\n",
    "to draw global dependencies between input and output. The ``nn.Transformer``\n",
    "module is highly modularized such that a single component (e.g.,\n",
    "[nn.TransformerEncoder](https://pytorch.org/docs/stable/generated/torch.nn.TransformerEncoder.html)_)\n",
    "can be easily adapted/composed.\n",
    "\n",
    "<img src=\"file://../_static/img/transformer_architecture.jpg\">\n"
   ]
  },
  {
   "cell_type": "markdown",
   "metadata": {},
   "source": [
    "## Define the model\n",
    "\n",
    "\n"
   ]
  },
  {
   "cell_type": "markdown",
   "metadata": {},
   "source": [
    "In this tutorial, we train a ``nn.TransformerEncoder`` model on a\n",
    "language modeling task. Please note that this tutorial does not cover\n",
    "the training of [nn.TransformerDecoder](https://pytorch.org/docs/stable/generated/torch.nn.TransformerDecoder.html#torch.nn.TransformerDecoder)_, as depicted in\n",
    "the right half of the diagram above. The language modeling task is to assign a\n",
    "probability for the likelihood of a given word (or a sequence of words)\n",
    "to follow a sequence of words. A sequence of tokens are passed to the embedding\n",
    "layer first, followed by a positional encoding layer to account for the order\n",
    "of the word (see the next paragraph for more details). The\n",
    "``nn.TransformerEncoder`` consists of multiple layers of\n",
    "[nn.TransformerEncoderLayer](https://pytorch.org/docs/stable/generated/torch.nn.TransformerEncoderLayer.html)_.\n",
    "Along with the input sequence, a square attention mask is required because the\n",
    "self-attention layers in ``nn.TransformerDecoder`` are only allowed to attend\n",
    "the earlier positions in the sequence. For the language modeling task, any\n",
    "tokens on the future positions should be masked. To produce a probability\n",
    "distribution over output words, the output of the ``nn.TransformerEncoder``\n",
    "model is passed through a linear layer to output unnormalized logits.\n",
    "The log-softmax function isn't applied here due to the later use of\n",
    "[CrossEntropyLoss](https://pytorch.org/docs/stable/generated/torch.nn.CrossEntropyLoss.html)_,\n",
    "which requires the inputs to be unnormalized logits.\n",
    "\n",
    "\n"
   ]
  },
  {
   "cell_type": "code",
   "execution_count": 11,
   "metadata": {},
   "outputs": [],
   "source": [
    "import math\n",
    "import os\n",
    "from tempfile import TemporaryDirectory\n",
    "from typing import Tuple\n",
    "\n",
    "import torch\n",
    "from torch import nn, Tensor\n",
    "from torch.nn import TransformerEncoder, TransformerEncoderLayer\n",
    "from torch.utils.data import dataset\n",
    "\n",
    "class TransformerModel(nn.Module):\n",
    "\n",
    "    def __init__(self, ntoken: int, d_model: int, nhead: int, d_hid: int,\n",
    "                 nlayers: int, dropout: float = 0.5):\n",
    "        super().__init__()\n",
    "        self.model_type = 'Transformer'\n",
    "        self.pos_encoder = PositionalEncoding(d_model, dropout)\n",
    "        encoder_layers = TransformerEncoderLayer(d_model, nhead, d_hid, dropout)\n",
    "        self.transformer_encoder = TransformerEncoder(encoder_layers, nlayers)\n",
    "        self.embedding = nn.Embedding(ntoken, d_model)\n",
    "        self.d_model = d_model\n",
    "        self.linear = nn.Linear(d_model, ntoken)\n",
    "\n",
    "        self.init_weights()\n",
    "\n",
    "    def init_weights(self) -> None:\n",
    "        initrange = 0.1\n",
    "        self.embedding.weight.data.uniform_(-initrange, initrange)\n",
    "        self.linear.bias.data.zero_()\n",
    "        self.linear.weight.data.uniform_(-initrange, initrange)\n",
    "\n",
    "    def forward(self, src: Tensor, src_mask: Tensor = None) -> Tensor:\n",
    "        \"\"\"\n",
    "        Arguments:\n",
    "            src: Tensor, shape ``[seq_len, batch_size]``\n",
    "            src_mask: Tensor, shape ``[seq_len, seq_len]``\n",
    "\n",
    "        Returns:\n",
    "            output Tensor of shape ``[seq_len, batch_size, ntoken]``\n",
    "        \"\"\"\n",
    "        src = self.embedding(src) * math.sqrt(self.d_model)\n",
    "        src = self.pos_encoder(src)\n",
    "        output = self.transformer_encoder(src, src_mask)\n",
    "        output = self.linear(output)\n",
    "        return output"
   ]
  },
  {
   "cell_type": "markdown",
   "metadata": {},
   "source": [
    "``PositionalEncoding`` module injects some information about the\n",
    "relative or absolute position of the tokens in the sequence. The\n",
    "positional encodings have the same dimension as the embeddings so that\n",
    "the two can be summed. Here, we use ``sine`` and ``cosine`` functions of\n",
    "different frequencies.\n",
    "\n",
    "\n"
   ]
  },
  {
   "cell_type": "code",
   "execution_count": 12,
   "metadata": {},
   "outputs": [],
   "source": [
    "class PositionalEncoding(nn.Module):\n",
    "\n",
    "    def __init__(self, d_model: int, dropout: float = 0.1, max_len: int = 5000):\n",
    "        super().__init__()\n",
    "        self.dropout = nn.Dropout(p=dropout)\n",
    "\n",
    "        position = torch.arange(max_len).unsqueeze(1)\n",
    "        div_term = torch.exp(torch.arange(0, d_model, 2) * (-math.log(10000.0) / d_model))\n",
    "        pe = torch.zeros(max_len, 1, d_model)\n",
    "        pe[:, 0, 0::2] = torch.sin(position * div_term)\n",
    "        pe[:, 0, 1::2] = torch.cos(position * div_term)\n",
    "        self.register_buffer('pe', pe)\n",
    "\n",
    "    def forward(self, x: Tensor) -> Tensor:\n",
    "        \"\"\"\n",
    "        Arguments:\n",
    "            x: Tensor, shape ``[seq_len, batch_size, embedding_dim]``\n",
    "        \"\"\"\n",
    "        x = x + self.pe[:x.size(0)]\n",
    "        return self.dropout(x)"
   ]
  },
  {
   "cell_type": "markdown",
   "metadata": {},
   "source": [
    "## Load and batch data\n",
    "\n",
    "\n"
   ]
  },
  {
   "cell_type": "markdown",
   "metadata": {},
   "source": [
    "This tutorial uses ``torchtext`` to generate Wikitext-2 dataset.\n",
    "To access torchtext datasets, please install torchdata following instructions at https://github.com/pytorch/data.\n",
    "%%"
   ]
  },
  {
   "cell_type": "code",
   "execution_count": 13,
   "metadata": {},
   "outputs": [
    {
     "name": "stdout",
     "output_type": "stream",
     "text": [
      "Requirement already satisfied: portalocker in /home/zlabs-hwa-01/anaconda3/lib/python3.10/site-packages (2.7.0)\n",
      "Requirement already satisfied: torchdata in /home/zlabs-hwa-01/anaconda3/lib/python3.10/site-packages (0.6.1)\n",
      "Requirement already satisfied: torch==2.0.1 in /home/zlabs-hwa-01/anaconda3/lib/python3.10/site-packages (from torchdata) (2.0.1)\n",
      "Requirement already satisfied: requests in /home/zlabs-hwa-01/anaconda3/lib/python3.10/site-packages (from torchdata) (2.31.0)\n",
      "Requirement already satisfied: urllib3>=1.25 in /home/zlabs-hwa-01/anaconda3/lib/python3.10/site-packages (from torchdata) (1.26.15)\n",
      "Requirement already satisfied: nvidia-nccl-cu11==2.14.3 in /home/zlabs-hwa-01/anaconda3/lib/python3.10/site-packages (from torch==2.0.1->torchdata) (2.14.3)\n",
      "Requirement already satisfied: typing-extensions in /home/zlabs-hwa-01/anaconda3/lib/python3.10/site-packages (from torch==2.0.1->torchdata) (4.5.0)\n",
      "Requirement already satisfied: networkx in /home/zlabs-hwa-01/anaconda3/lib/python3.10/site-packages (from torch==2.0.1->torchdata) (3.1)\n",
      "Requirement already satisfied: nvidia-nvtx-cu11==11.7.91 in /home/zlabs-hwa-01/anaconda3/lib/python3.10/site-packages (from torch==2.0.1->torchdata) (11.7.91)\n",
      "Requirement already satisfied: nvidia-cusolver-cu11==11.4.0.1 in /home/zlabs-hwa-01/anaconda3/lib/python3.10/site-packages (from torch==2.0.1->torchdata) (11.4.0.1)\n",
      "Requirement already satisfied: nvidia-cusparse-cu11==11.7.4.91 in /home/zlabs-hwa-01/anaconda3/lib/python3.10/site-packages (from torch==2.0.1->torchdata) (11.7.4.91)\n",
      "Requirement already satisfied: nvidia-cuda-nvrtc-cu11==11.7.99 in /home/zlabs-hwa-01/anaconda3/lib/python3.10/site-packages (from torch==2.0.1->torchdata) (11.7.99)\n",
      "Requirement already satisfied: filelock in /home/zlabs-hwa-01/anaconda3/lib/python3.10/site-packages (from torch==2.0.1->torchdata) (3.12.2)\n",
      "Requirement already satisfied: nvidia-cuda-runtime-cu11==11.7.99 in /home/zlabs-hwa-01/anaconda3/lib/python3.10/site-packages (from torch==2.0.1->torchdata) (11.7.99)\n",
      "Requirement already satisfied: nvidia-curand-cu11==10.2.10.91 in /home/zlabs-hwa-01/anaconda3/lib/python3.10/site-packages (from torch==2.0.1->torchdata) (10.2.10.91)\n",
      "Requirement already satisfied: nvidia-cudnn-cu11==8.5.0.96 in /home/zlabs-hwa-01/anaconda3/lib/python3.10/site-packages (from torch==2.0.1->torchdata) (8.5.0.96)\n",
      "Requirement already satisfied: triton==2.0.0 in /home/zlabs-hwa-01/anaconda3/lib/python3.10/site-packages (from torch==2.0.1->torchdata) (2.0.0)\n",
      "Requirement already satisfied: nvidia-cuda-cupti-cu11==11.7.101 in /home/zlabs-hwa-01/anaconda3/lib/python3.10/site-packages (from torch==2.0.1->torchdata) (11.7.101)\n",
      "Requirement already satisfied: nvidia-cufft-cu11==10.9.0.58 in /home/zlabs-hwa-01/anaconda3/lib/python3.10/site-packages (from torch==2.0.1->torchdata) (10.9.0.58)\n",
      "Requirement already satisfied: nvidia-cublas-cu11==11.10.3.66 in /home/zlabs-hwa-01/anaconda3/lib/python3.10/site-packages (from torch==2.0.1->torchdata) (11.10.3.66)\n",
      "Requirement already satisfied: jinja2 in /home/zlabs-hwa-01/anaconda3/lib/python3.10/site-packages (from torch==2.0.1->torchdata) (3.1.2)\n",
      "Requirement already satisfied: sympy in /home/zlabs-hwa-01/anaconda3/lib/python3.10/site-packages (from torch==2.0.1->torchdata) (1.12)\n",
      "Requirement already satisfied: setuptools in /home/zlabs-hwa-01/anaconda3/lib/python3.10/site-packages (from nvidia-cublas-cu11==11.10.3.66->torch==2.0.1->torchdata) (68.0.0)\n",
      "Requirement already satisfied: wheel in /home/zlabs-hwa-01/anaconda3/lib/python3.10/site-packages (from nvidia-cublas-cu11==11.10.3.66->torch==2.0.1->torchdata) (0.38.4)\n",
      "Requirement already satisfied: cmake in /home/zlabs-hwa-01/anaconda3/lib/python3.10/site-packages (from triton==2.0.0->torch==2.0.1->torchdata) (3.26.4)\n",
      "Requirement already satisfied: lit in /home/zlabs-hwa-01/anaconda3/lib/python3.10/site-packages (from triton==2.0.0->torch==2.0.1->torchdata) (16.0.6)\n",
      "Requirement already satisfied: certifi>=2017.4.17 in /home/zlabs-hwa-01/anaconda3/lib/python3.10/site-packages (from requests->torchdata) (2023.5.7)\n",
      "Requirement already satisfied: idna<4,>=2.5 in /home/zlabs-hwa-01/anaconda3/lib/python3.10/site-packages (from requests->torchdata) (3.4)\n",
      "Requirement already satisfied: charset-normalizer<4,>=2 in /home/zlabs-hwa-01/anaconda3/lib/python3.10/site-packages (from requests->torchdata) (2.0.4)\n",
      "Requirement already satisfied: MarkupSafe>=2.0 in /home/zlabs-hwa-01/anaconda3/lib/python3.10/site-packages (from jinja2->torch==2.0.1->torchdata) (2.1.1)\n",
      "Requirement already satisfied: mpmath>=0.19 in /home/zlabs-hwa-01/anaconda3/lib/python3.10/site-packages (from sympy->torch==2.0.1->torchdata) (1.3.0)\n"
     ]
    }
   ],
   "source": [
    "%%bash\n",
    "pip install portalocker\n",
    "pip install torchdata"
   ]
  },
  {
   "cell_type": "markdown",
   "metadata": {},
   "source": [
    "The vocab object is built based on the train dataset and is used to numericalize\n",
    "tokens into tensors. Wikitext-2 represents rare tokens as `<unk>`.\n",
    "\n",
    "Given a 1-D vector of sequential data, ``batchify()`` arranges the data\n",
    "into ``batch_size`` columns. If the data does not divide evenly into\n",
    "``batch_size`` columns, then the data is trimmed to fit. For instance, with\n",
    "the alphabet as the data (total length of 26) and ``batch_size=4``, we would\n",
    "divide the alphabet into sequences of length 6, resulting in 4 of such sequences.\n",
    "\n",
    "\\begin{align}\\begin{bmatrix}\n",
    "  \\text{A} & \\text{B} & \\text{C} & \\ldots & \\text{X} & \\text{Y} & \\text{Z}\n",
    "  \\end{bmatrix}\n",
    "  \\Rightarrow\n",
    "  \\begin{bmatrix}\n",
    "  \\begin{bmatrix}\\text{A} \\\\ \\text{B} \\\\ \\text{C} \\\\ \\text{D} \\\\ \\text{E} \\\\ \\text{F}\\end{bmatrix} &\n",
    "  \\begin{bmatrix}\\text{G} \\\\ \\text{H} \\\\ \\text{I} \\\\ \\text{J} \\\\ \\text{K} \\\\ \\text{L}\\end{bmatrix} &\n",
    "  \\begin{bmatrix}\\text{M} \\\\ \\text{N} \\\\ \\text{O} \\\\ \\text{P} \\\\ \\text{Q} \\\\ \\text{R}\\end{bmatrix} &\n",
    "  \\begin{bmatrix}\\text{S} \\\\ \\text{T} \\\\ \\text{U} \\\\ \\text{V} \\\\ \\text{W} \\\\ \\text{X}\\end{bmatrix}\n",
    "  \\end{bmatrix}\\end{align}\n",
    "\n",
    "Batching enables more parallelizable processing. However, batching means that\n",
    "the model treats each column independently; for example, the dependence of\n",
    "``G`` and ``F`` can not be learned in the example above.\n",
    "\n",
    "\n"
   ]
  },
  {
   "cell_type": "code",
   "execution_count": 14,
   "metadata": {},
   "outputs": [
    {
     "name": "stderr",
     "output_type": "stream",
     "text": [
      "/home/zlabs-hwa-01/anaconda3/lib/python3.10/site-packages/torch/cuda/__init__.py:107: UserWarning: CUDA initialization: Unexpected error from cudaGetDeviceCount(). Did you run some cuda functions before calling NumCudaDevices() that might have already set an error? Error 804: forward compatibility was attempted on non supported HW (Triggered internally at ../c10/cuda/CUDAFunctions.cpp:109.)\n",
      "  return torch._C._cuda_getDeviceCount() > 0\n"
     ]
    }
   ],
   "source": [
    "from torchtext.datasets import WikiText2\n",
    "from torchtext.data.utils import get_tokenizer\n",
    "from torchtext.vocab import build_vocab_from_iterator\n",
    "\n",
    "train_iter = WikiText2(split='train')\n",
    "tokenizer = get_tokenizer('basic_english')\n",
    "vocab = build_vocab_from_iterator(map(tokenizer, train_iter), specials=['<unk>'])\n",
    "vocab.set_default_index(vocab['<unk>'])\n",
    "\n",
    "def data_process(raw_text_iter: dataset.IterableDataset) -> Tensor:\n",
    "    \"\"\"Converts raw text into a flat Tensor.\"\"\"\n",
    "    data = [torch.tensor(vocab(tokenizer(item)), dtype=torch.long) for item in raw_text_iter]\n",
    "    return torch.cat(tuple(filter(lambda t: t.numel() > 0, data)))\n",
    "\n",
    "# ``train_iter`` was \"consumed\" by the process of building the vocab,\n",
    "# so we have to create it again\n",
    "train_iter, val_iter, test_iter = WikiText2()\n",
    "train_data = data_process(train_iter)\n",
    "val_data = data_process(val_iter)\n",
    "test_data = data_process(test_iter)\n",
    "\n",
    "device = torch.device('cuda' if torch.cuda.is_available() else 'cpu')\n",
    "\n",
    "def batchify(data: Tensor, bsz: int) -> Tensor:\n",
    "    \"\"\"Divides the data into ``bsz`` separate sequences, removing extra elements\n",
    "    that wouldn't cleanly fit.\n",
    "\n",
    "    Arguments:\n",
    "        data: Tensor, shape ``[N]``\n",
    "        bsz: int, batch size\n",
    "\n",
    "    Returns:\n",
    "        Tensor of shape ``[N // bsz, bsz]``\n",
    "    \"\"\"\n",
    "    seq_len = data.size(0) // bsz\n",
    "    data = data[:seq_len * bsz]\n",
    "    data = data.view(bsz, seq_len).t().contiguous()\n",
    "    return data.to(device)\n",
    "\n",
    "batch_size = 20\n",
    "eval_batch_size = 10\n",
    "train_data = batchify(train_data, batch_size)  # shape ``[seq_len, batch_size]``\n",
    "val_data = batchify(val_data, eval_batch_size)\n",
    "test_data = batchify(test_data, eval_batch_size)"
   ]
  },
  {
   "cell_type": "markdown",
   "metadata": {},
   "source": [
    "### Functions to generate input and target sequence\n",
    "\n",
    "\n"
   ]
  },
  {
   "cell_type": "markdown",
   "metadata": {},
   "source": [
    "``get_batch()`` generates a pair of input-target sequences for\n",
    "the transformer model. It subdivides the source data into chunks of\n",
    "length ``bptt``. For the language modeling task, the model needs the\n",
    "following words as ``Target``. For example, with a ``bptt`` value of 2,\n",
    "we’d get the following two Variables for ``i`` = 0:\n",
    "\n",
    "<img src=\"file://../_static/img/transformer_input_target.png\">\n",
    "\n",
    "It should be noted that the chunks are along dimension 0, consistent\n",
    "with the ``S`` dimension in the Transformer model. The batch dimension\n",
    "``N`` is along dimension 1.\n",
    "\n",
    "\n"
   ]
  },
  {
   "cell_type": "code",
   "execution_count": 15,
   "metadata": {},
   "outputs": [],
   "source": [
    "bptt = 35\n",
    "def get_batch(source: Tensor, i: int) -> Tuple[Tensor, Tensor]:\n",
    "    \"\"\"\n",
    "    Args:\n",
    "        source: Tensor, shape ``[full_seq_len, batch_size]``\n",
    "        i: int\n",
    "\n",
    "    Returns:\n",
    "        tuple (data, target), where data has shape ``[seq_len, batch_size]`` and\n",
    "        target has shape ``[seq_len * batch_size]``\n",
    "    \"\"\"\n",
    "    seq_len = min(bptt, len(source) - 1 - i)\n",
    "    data = source[i:i+seq_len]\n",
    "    target = source[i+1:i+1+seq_len].reshape(-1)\n",
    "    return data, target"
   ]
  },
  {
   "cell_type": "markdown",
   "metadata": {},
   "source": [
    "## Initiate an instance\n",
    "\n",
    "\n"
   ]
  },
  {
   "cell_type": "markdown",
   "metadata": {},
   "source": [
    "The model hyperparameters are defined below. The ``vocab`` size is\n",
    "equal to the length of the vocab object.\n",
    "\n",
    "\n"
   ]
  },
  {
   "cell_type": "code",
   "execution_count": 16,
   "metadata": {},
   "outputs": [],
   "source": [
    "ntokens = len(vocab)  # size of vocabulary\n",
    "emsize = 200  # embedding dimension\n",
    "d_hid = 200  # dimension of the feedforward network model in ``nn.TransformerEncoder``\n",
    "nlayers = 2  # number of ``nn.TransformerEncoderLayer`` in ``nn.TransformerEncoder``\n",
    "nhead = 2  # number of heads in ``nn.MultiheadAttention``\n",
    "dropout = 0.2  # dropout probability\n",
    "model = TransformerModel(ntokens, emsize, nhead, d_hid, nlayers, dropout).to(device)"
   ]
  },
  {
   "cell_type": "markdown",
   "metadata": {},
   "source": [
    "## Run the model\n",
    "\n",
    "\n"
   ]
  },
  {
   "cell_type": "markdown",
   "metadata": {},
   "source": [
    "We use [CrossEntropyLoss](https://pytorch.org/docs/stable/generated/torch.nn.CrossEntropyLoss.html)_\n",
    "with the [SGD](https://pytorch.org/docs/stable/generated/torch.optim.SGD.html)_\n",
    "(stochastic gradient descent) optimizer. The learning rate is initially set to\n",
    "5.0 and follows a [StepLR](https://pytorch.org/docs/stable/generated/torch.optim.lr_scheduler.StepLR.html)_\n",
    "schedule. During training, we use [nn.utils.clip_grad_norm\\_](https://pytorch.org/docs/stable/generated/torch.nn.utils.clip_grad_norm_.html)_\n",
    "to prevent gradients from exploding.\n",
    "\n",
    "\n"
   ]
  },
  {
   "cell_type": "code",
   "execution_count": 17,
   "metadata": {},
   "outputs": [],
   "source": [
    "import time\n",
    "\n",
    "criterion = nn.CrossEntropyLoss()\n",
    "lr = 5.0  # learning rate\n",
    "optimizer = torch.optim.SGD(model.parameters(), lr=lr)\n",
    "scheduler = torch.optim.lr_scheduler.StepLR(optimizer, 1.0, gamma=0.95)\n",
    "\n",
    "def train(model: nn.Module) -> None:\n",
    "    model.train()  # turn on train mode\n",
    "    total_loss = 0.\n",
    "    log_interval = 200\n",
    "    start_time = time.time()\n",
    "\n",
    "    num_batches = len(train_data) // bptt\n",
    "    for batch, i in enumerate(range(0, train_data.size(0) - 1, bptt)):\n",
    "        data, targets = get_batch(train_data, i)\n",
    "        output = model(data)\n",
    "        output_flat = output.view(-1, ntokens)\n",
    "        loss = criterion(output_flat, targets)\n",
    "\n",
    "        optimizer.zero_grad()\n",
    "        loss.backward()\n",
    "        torch.nn.utils.clip_grad_norm_(model.parameters(), 0.5)\n",
    "        optimizer.step()\n",
    "\n",
    "        total_loss += loss.item()\n",
    "        if batch % log_interval == 0 and batch > 0:\n",
    "            lr = scheduler.get_last_lr()[0]\n",
    "            ms_per_batch = (time.time() - start_time) * 1000 / log_interval\n",
    "            cur_loss = total_loss / log_interval\n",
    "            ppl = math.exp(cur_loss)\n",
    "            print(f'| epoch {epoch:3d} | {batch:5d}/{num_batches:5d} batches | '\n",
    "                  f'lr {lr:02.2f} | ms/batch {ms_per_batch:5.2f} | '\n",
    "                  f'loss {cur_loss:5.2f} | ppl {ppl:8.2f}')\n",
    "            total_loss = 0\n",
    "            start_time = time.time()\n",
    "\n",
    "def evaluate(model: nn.Module, eval_data: Tensor) -> float:\n",
    "    model.eval()  # turn on evaluation mode\n",
    "    total_loss = 0.\n",
    "    with torch.no_grad():\n",
    "        for i in range(0, eval_data.size(0) - 1, bptt):\n",
    "            data, targets = get_batch(eval_data, i)\n",
    "            seq_len = data.size(0)\n",
    "            output = model(data)\n",
    "            output_flat = output.view(-1, ntokens)\n",
    "            total_loss += seq_len * criterion(output_flat, targets).item()\n",
    "    return total_loss / (len(eval_data) - 1)"
   ]
  },
  {
   "cell_type": "markdown",
   "metadata": {},
   "source": [
    "Loop over epochs. Save the model if the validation loss is the best\n",
    "we've seen so far. Adjust the learning rate after each epoch.\n",
    "\n"
   ]
  },
  {
   "cell_type": "code",
   "execution_count": 18,
   "metadata": {},
   "outputs": [
    {
     "name": "stdout",
     "output_type": "stream",
     "text": [
      "| epoch   1 |   200/ 2928 batches | lr 5.00 | ms/batch 148.05 | loss  8.06 | ppl  3173.98\n",
      "| epoch   1 |   400/ 2928 batches | lr 5.00 | ms/batch 143.70 | loss  6.19 | ppl   487.51\n",
      "| epoch   1 |   600/ 2928 batches | lr 5.00 | ms/batch 145.43 | loss  5.58 | ppl   263.84\n",
      "| epoch   1 |   800/ 2928 batches | lr 5.00 | ms/batch 149.47 | loss  5.25 | ppl   190.79\n",
      "| epoch   1 |  1000/ 2928 batches | lr 5.00 | ms/batch 136.51 | loss  4.81 | ppl   123.06\n",
      "| epoch   1 |  1200/ 2928 batches | lr 5.00 | ms/batch 146.83 | loss  4.41 | ppl    82.10\n",
      "| epoch   1 |  1400/ 2928 batches | lr 5.00 | ms/batch 148.01 | loss  4.12 | ppl    61.33\n",
      "| epoch   1 |  1600/ 2928 batches | lr 5.00 | ms/batch 144.45 | loss  3.94 | ppl    51.23\n",
      "| epoch   1 |  1800/ 2928 batches | lr 5.00 | ms/batch 148.86 | loss  3.70 | ppl    40.65\n",
      "| epoch   1 |  2000/ 2928 batches | lr 5.00 | ms/batch 145.97 | loss  3.60 | ppl    36.74\n",
      "| epoch   1 |  2200/ 2928 batches | lr 5.00 | ms/batch 147.79 | loss  3.44 | ppl    31.24\n",
      "| epoch   1 |  2400/ 2928 batches | lr 5.00 | ms/batch 156.60 | loss  3.45 | ppl    31.38\n",
      "| epoch   1 |  2600/ 2928 batches | lr 5.00 | ms/batch 150.81 | loss  3.37 | ppl    29.03\n",
      "| epoch   1 |  2800/ 2928 batches | lr 5.00 | ms/batch 152.94 | loss  3.26 | ppl    25.93\n",
      "-----------------------------------------------------------------------------------------\n",
      "| end of epoch   1 | time: 451.22s | valid loss  2.22 | valid ppl     9.21\n",
      "-----------------------------------------------------------------------------------------\n",
      "| epoch   2 |   200/ 2928 batches | lr 4.75 | ms/batch 151.43 | loss  3.04 | ppl    20.96\n",
      "| epoch   2 |   400/ 2928 batches | lr 4.75 | ms/batch 138.36 | loss  2.97 | ppl    19.55\n",
      "| epoch   2 |   600/ 2928 batches | lr 4.75 | ms/batch 153.20 | loss  2.84 | ppl    17.04\n",
      "| epoch   2 |   800/ 2928 batches | lr 4.75 | ms/batch 150.01 | loss  2.80 | ppl    16.41\n",
      "| epoch   2 |  1000/ 2928 batches | lr 4.75 | ms/batch 158.25 | loss  2.69 | ppl    14.67\n",
      "| epoch   2 |  1200/ 2928 batches | lr 4.75 | ms/batch 159.27 | loss  2.70 | ppl    14.90\n",
      "| epoch   2 |  1400/ 2928 batches | lr 4.75 | ms/batch 159.37 | loss  2.67 | ppl    14.39\n",
      "| epoch   2 |  1600/ 2928 batches | lr 4.75 | ms/batch 164.54 | loss  2.73 | ppl    15.27\n",
      "| epoch   2 |  1800/ 2928 batches | lr 4.75 | ms/batch 165.34 | loss  2.62 | ppl    13.71\n",
      "| epoch   2 |  2000/ 2928 batches | lr 4.75 | ms/batch 164.23 | loss  2.62 | ppl    13.68\n",
      "| epoch   2 |  2200/ 2928 batches | lr 4.75 | ms/batch 167.45 | loss  2.52 | ppl    12.49\n",
      "| epoch   2 |  2400/ 2928 batches | lr 4.75 | ms/batch 163.12 | loss  2.59 | ppl    13.30\n",
      "| epoch   2 |  2600/ 2928 batches | lr 4.75 | ms/batch 160.63 | loss  2.58 | ppl    13.20\n",
      "| epoch   2 |  2800/ 2928 batches | lr 4.75 | ms/batch 159.32 | loss  2.49 | ppl    12.06\n",
      "-----------------------------------------------------------------------------------------\n",
      "| end of epoch   2 | time: 480.18s | valid loss  1.32 | valid ppl     3.74\n",
      "-----------------------------------------------------------------------------------------\n",
      "| epoch   3 |   200/ 2928 batches | lr 4.51 | ms/batch 161.96 | loss  2.37 | ppl    10.65\n",
      "| epoch   3 |   400/ 2928 batches | lr 4.51 | ms/batch 163.59 | loss  2.33 | ppl    10.27\n",
      "| epoch   3 |   600/ 2928 batches | lr 4.51 | ms/batch 175.18 | loss  2.40 | ppl    10.97\n",
      "| epoch   3 |   800/ 2928 batches | lr 4.51 | ms/batch 179.77 | loss  2.32 | ppl    10.22\n",
      "| epoch   3 |  1000/ 2928 batches | lr 4.51 | ms/batch 175.75 | loss  2.23 | ppl     9.29\n",
      "| epoch   3 |  1200/ 2928 batches | lr 4.51 | ms/batch 172.34 | loss  2.21 | ppl     9.16\n",
      "| epoch   3 |  1400/ 2928 batches | lr 4.51 | ms/batch 180.53 | loss  2.26 | ppl     9.56\n",
      "| epoch   3 |  1600/ 2928 batches | lr 4.51 | ms/batch 175.98 | loss  2.30 | ppl     9.93\n",
      "| epoch   3 |  1800/ 2928 batches | lr 4.51 | ms/batch 181.30 | loss  2.26 | ppl     9.61\n",
      "| epoch   3 |  2000/ 2928 batches | lr 4.51 | ms/batch 184.28 | loss  2.43 | ppl    11.35\n",
      "| epoch   3 |  2200/ 2928 batches | lr 4.51 | ms/batch 175.63 | loss  2.25 | ppl     9.46\n",
      "| epoch   3 |  2400/ 2928 batches | lr 4.51 | ms/batch 182.92 | loss  2.30 | ppl     9.94\n",
      "| epoch   3 |  2600/ 2928 batches | lr 4.51 | ms/batch 189.54 | loss  2.22 | ppl     9.24\n",
      "| epoch   3 |  2800/ 2928 batches | lr 4.51 | ms/batch 198.58 | loss  2.13 | ppl     8.42\n",
      "-----------------------------------------------------------------------------------------\n",
      "| end of epoch   3 | time: 540.70s | valid loss  1.42 | valid ppl     4.15\n",
      "-----------------------------------------------------------------------------------------\n"
     ]
    }
   ],
   "source": [
    "best_val_loss = float('inf')\n",
    "epochs = 3\n",
    "\n",
    "with TemporaryDirectory() as tempdir:\n",
    "    best_model_params_path = os.path.join(tempdir, \"best_model_params.pt\")\n",
    "\n",
    "    for epoch in range(1, epochs + 1):\n",
    "        epoch_start_time = time.time()\n",
    "        train(model)\n",
    "        val_loss = evaluate(model, val_data)\n",
    "        val_ppl = math.exp(val_loss)\n",
    "        elapsed = time.time() - epoch_start_time\n",
    "        print('-' * 89)\n",
    "        print(f'| end of epoch {epoch:3d} | time: {elapsed:5.2f}s | '\n",
    "            f'valid loss {val_loss:5.2f} | valid ppl {val_ppl:8.2f}')\n",
    "        print('-' * 89)\n",
    "\n",
    "        if val_loss < best_val_loss:\n",
    "            best_val_loss = val_loss\n",
    "            torch.save(model.state_dict(), best_model_params_path)\n",
    "\n",
    "        scheduler.step()\n",
    "    model.load_state_dict(torch.load(best_model_params_path)) # load best model states"
   ]
  },
  {
   "cell_type": "markdown",
   "metadata": {},
   "source": [
    "## Evaluate the best model on the test dataset\n",
    "\n",
    "\n"
   ]
  },
  {
   "cell_type": "code",
   "execution_count": 19,
   "metadata": {},
   "outputs": [
    {
     "name": "stdout",
     "output_type": "stream",
     "text": [
      "=========================================================================================\n",
      "| End of training | test loss  1.30 | test ppl     3.67\n",
      "=========================================================================================\n"
     ]
    }
   ],
   "source": [
    "test_loss = evaluate(model, test_data)\n",
    "test_ppl = math.exp(test_loss)\n",
    "print('=' * 89)\n",
    "print(f'| End of training | test loss {test_loss:5.2f} | '\n",
    "      f'test ppl {test_ppl:8.2f}')\n",
    "print('=' * 89)"
   ]
  }
 ],
 "metadata": {
  "kernelspec": {
   "display_name": "Python 3 (ipykernel)",
   "language": "python",
   "name": "python3"
  },
  "language_info": {
   "codemirror_mode": {
    "name": "ipython",
    "version": 3
   },
   "file_extension": ".py",
   "mimetype": "text/x-python",
   "name": "python",
   "nbconvert_exporter": "python",
   "pygments_lexer": "ipython3",
   "version": "3.10.9"
  }
 },
 "nbformat": 4,
 "nbformat_minor": 1
}
